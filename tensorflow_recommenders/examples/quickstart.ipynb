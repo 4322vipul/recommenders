{
  "nbformat": 4,
  "nbformat_minor": 0,
  "metadata": {
    "colab": {
      "name": "quickstart.ipynb",
      "provenance": [],
      "collapsed_sections": [],
      "toc_visible": true
    },
    "kernelspec": {
      "display_name": "Python 3",
      "name": "python3"
    }
  },
  "cells": [
    {
      "cell_type": "markdown",
      "metadata": {
        "colab_type": "text",
        "id": "sT8AyHRMNh41"
      },
      "source": [
        "# TensorFlow Recommenders: Quickstart\n",
        "\n",
        "To estimate a simple matrix factorization model on the Movielens 100K dataset, the following is enough:"
      ]
    },
    {
      "cell_type": "markdown",
      "metadata": {
        "colab_type": "text",
        "id": "qA00wBE2Ntdm"
      },
      "source": [
        "### Import TFRS"
      ]
    },
    {
      "cell_type": "code",
      "metadata": {
        "colab_type": "code",
        "id": "n3oYt3R6Nr9l",
        "colab": {}
      },
      "source": [
        "from typing import Dict, Text\n",
        "\n",
        "import tensorflow as tf\n",
        "import tensorflow_datasets as tfds\n",
        "\n",
        "import tensorflow_recommenders as tfrs"
      ],
      "execution_count": 13,
      "outputs": []
    },
    {
      "cell_type": "markdown",
      "metadata": {
        "colab_type": "text",
        "id": "zCxQ1CZcO2wh"
      },
      "source": [
        "### Read the data"
      ]
    },
    {
      "cell_type": "code",
      "metadata": {
        "id": "xZkl24AZ03CZ",
        "colab_type": "code",
        "colab": {}
      },
      "source": [
        "ratings = tfds.load('movie_lens/100k-ratings', split='train')\n",
        "movies = tfds.load('movie_lens/100k-movies', split='train')\n",
        "\n",
        "# Keep only id features for batching\n",
        "def keep_only_id_features(example):\n",
        "  feature_names = ['movie_id', 'user_id']\n",
        "  filtered_example = {key: example[key] for key in feature_names}\n",
        "  return filtered_example\n",
        "\n",
        "ratings = ratings.map(keep_only_id_features)"
      ],
      "execution_count": 14,
      "outputs": []
    },
    {
      "cell_type": "markdown",
      "metadata": {
        "colab_type": "text",
        "id": "Lrch6rVBOB9Q"
      },
      "source": [
        "### Define a model:"
      ]
    },
    {
      "cell_type": "code",
      "metadata": {
        "colab_type": "code",
        "id": "3VYHdI2bN2xW",
        "colab": {}
      },
      "source": [
        "class Model(tfrs.Model):\n",
        "\n",
        "  def __init__(self):\n",
        "    super().__init__()\n",
        "\n",
        "    # Set up user representation.\n",
        "    self.user_model = tf.keras.layers.Embedding(\n",
        "        input_dim=2000, output_dim=64)\n",
        "    # Set up movie representation.\n",
        "    self.item_model = tf.keras.layers.Embedding(\n",
        "        input_dim=2000, output_dim=64)\n",
        "    # Set up a retrieval task and evaluation metrics over the\n",
        "    # entire dataset of candidates.\n",
        "    self.task = tfrs.tasks.RetrievalTask(\n",
        "        corpus_metrics=tfrs.metrics.FactorizedTopK(\n",
        "            candidates=movies.map(lambda x: self.item_model(tf.strings.to_number(x[\"movie_id\"]))).batch(128)\n",
        "        )\n",
        "    )\n",
        "\n",
        "  def compute_loss(self, features: Dict[Text, tf.Tensor], training: bool=False) -> tf.Tensor:\n",
        "\n",
        "    user_embeddings = self.user_model(tf.strings.to_number(features[\"user_id\"]))\n",
        "    movie_embeddings = self.item_model(tf.strings.to_number(features[\"movie_id\"]))\n",
        "\n",
        "    return self.task(user_embeddings, movie_embeddings)"
      ],
      "execution_count": 15,
      "outputs": []
    },
    {
      "cell_type": "markdown",
      "metadata": {
        "colab_type": "text",
        "id": "wdwtgUCEOI8y"
      },
      "source": [
        "### Fit and evaluate it."
      ]
    },
    {
      "cell_type": "code",
      "metadata": {
        "colab_type": "code",
        "id": "H2tQDhqkOKf1",
        "colab": {
          "base_uri": "https://localhost:8080/",
          "height": 360
        },
        "outputId": "4af4c631-d339-4706-cc50-da403b9a9be3"
      },
      "source": [
        "model = Model()\n",
        "model.compile(optimizer=tf.keras.optimizers.Adagrad(0.5))\n",
        "\n",
        "# Randomly shuffle data and split between train and test.\n",
        "tf.random.set_seed(42)\n",
        "shuffled = ratings.shuffle(100_000, seed=42, reshuffle_each_iteration=False)\n",
        "\n",
        "train = shuffled.take(80_000)\n",
        "test = shuffled.skip(80_000).take(20_000)\n",
        "\n",
        "# Train.\n",
        "model.fit(train.batch(4096), epochs=5)\n",
        "\n",
        "# Evaluate.\n",
        "model.evaluate(test.batch(4096), return_dict=True)"
      ],
      "execution_count": 16,
      "outputs": [
        {
          "output_type": "stream",
          "text": [
            "Epoch 1/5\n",
            "20/20 [==============================] - 15s 765ms/step - factorized_top_k_3: 0.0279 - factorized_top_k_3/top_1_categorical_accuracy: 7.5000e-05 - factorized_top_k_3/top_5_categorical_accuracy: 0.0017 - factorized_top_k_3/top_10_categorical_accuracy: 0.0051 - factorized_top_k_3/top_50_categorical_accuracy: 0.0406 - factorized_top_k_3/top_100_categorical_accuracy: 0.0922 - loss: 33392.2346\n",
            "Epoch 2/5\n",
            "20/20 [==============================] - 15s 735ms/step - factorized_top_k_3: 0.0680 - factorized_top_k_3/top_1_categorical_accuracy: 2.5000e-04 - factorized_top_k_3/top_5_categorical_accuracy: 0.0054 - factorized_top_k_3/top_10_categorical_accuracy: 0.0154 - factorized_top_k_3/top_50_categorical_accuracy: 0.1074 - factorized_top_k_3/top_100_categorical_accuracy: 0.2116 - loss: 31094.4278\n",
            "Epoch 3/5\n",
            "20/20 [==============================] - 20s 1s/step - factorized_top_k_3: 0.0971 - factorized_top_k_3/top_1_categorical_accuracy: 8.5000e-04 - factorized_top_k_3/top_5_categorical_accuracy: 0.0104 - factorized_top_k_3/top_10_categorical_accuracy: 0.0267 - factorized_top_k_3/top_50_categorical_accuracy: 0.1601 - factorized_top_k_3/top_100_categorical_accuracy: 0.2873 - loss: 30343.5452\n",
            "Epoch 4/5\n",
            "20/20 [==============================] - 19s 945ms/step - factorized_top_k_3: 0.1191 - factorized_top_k_3/top_1_categorical_accuracy: 9.1250e-04 - factorized_top_k_3/top_5_categorical_accuracy: 0.0131 - factorized_top_k_3/top_10_categorical_accuracy: 0.0348 - factorized_top_k_3/top_50_categorical_accuracy: 0.2019 - factorized_top_k_3/top_100_categorical_accuracy: 0.3447 - loss: 29906.0965\n",
            "Epoch 5/5\n",
            "20/20 [==============================] - 17s 837ms/step - factorized_top_k_3: 0.1329 - factorized_top_k_3/top_1_categorical_accuracy: 7.2500e-04 - factorized_top_k_3/top_5_categorical_accuracy: 0.0143 - factorized_top_k_3/top_10_categorical_accuracy: 0.0385 - factorized_top_k_3/top_50_categorical_accuracy: 0.2296 - factorized_top_k_3/top_100_categorical_accuracy: 0.3815 - loss: 29593.4004\n",
            "5/5 [==============================] - 3s 651ms/step - factorized_top_k_3: 0.0421 - factorized_top_k_3/top_1_categorical_accuracy: 5.0000e-05 - factorized_top_k_3/top_5_categorical_accuracy: 4.5000e-04 - factorized_top_k_3/top_10_categorical_accuracy: 0.0016 - factorized_top_k_3/top_50_categorical_accuracy: 0.0551 - factorized_top_k_3/top_100_categorical_accuracy: 0.1535 - loss: 33111.3698\n"
          ],
          "name": "stdout"
        },
        {
          "output_type": "execute_result",
          "data": {
            "text/plain": [
              "{'factorized_top_k_3': array([5.0000e-05, 4.5000e-04, 1.5500e-03, 5.5050e-02, 1.5355e-01],\n",
              "       dtype=float32),\n",
              " 'factorized_top_k_3/top_1_categorical_accuracy': 4.999999873689376e-05,\n",
              " 'factorized_top_k_3/top_5_categorical_accuracy': 0.00044999999227002263,\n",
              " 'factorized_top_k_3/top_10_categorical_accuracy': 0.001550000044517219,\n",
              " 'factorized_top_k_3/top_50_categorical_accuracy': 0.05505000054836273,\n",
              " 'factorized_top_k_3/top_100_categorical_accuracy': 0.15354999899864197,\n",
              " 'loss': 30127.83984375}"
            ]
          },
          "metadata": {
            "tags": []
          },
          "execution_count": 16
        }
      ]
    }
  ]
}