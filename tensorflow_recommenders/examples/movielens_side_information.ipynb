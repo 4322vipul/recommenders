{
 "cells": [
  {
   "cell_type": "markdown",
   "metadata": {
    "colab_type": "text",
    "id": "vmR0Ojuf6eHq"
   },
   "source": [
    "# Using side information in retrieval\n",
    "\n",
    "In the first tutorial we built a simple retrieval model for the Movielens dataset, using user and movie ids as only features.\n",
    "\n",
    "However, it's often useful to use a richer set of features, for both queries and candidates. For example:\n",
    "\n",
    "1. In a large candidate catalogue, there may not be enough data per item to accurately estimate an embedding vector for every item. Using items features (categories, descriptions, images) will help build a model that's more accurate and generalizes better to unseen items.\n",
    "2. Some applications (like fashion) have candidate sets that change frequently, and any given item is available only for a short time. This leaves little time for learning of accurate item representations.\n",
    "3. Users' preferences may change depending on the context they are in. For example, a single user may prefer to consume short-form content when on their phone, and reserve long-form content for their TV. Being able to use the context of the interaction in the model will help capture these nuances.\n",
    "4. Items' relevance may change over time. Including time as an explicit feature will help the model capture popularity trends, preventing items that were once popular but not relevant any more from dominating future recommendations.\n",
    "\n",
    "In this example, we're going to make use of query context to improve our initial model."
   ]
  },
  {
   "cell_type": "markdown",
   "metadata": {
    "colab_type": "text",
    "id": "CBA9KfOdFa2i"
   },
   "source": [
    "## Preliminaries\n",
    "\n",
    "As before, let's start with the necessary imports."
   ]
  },
  {
   "cell_type": "code",
   "execution_count": 0,
   "metadata": {
    "colab": {},
    "colab_type": "code",
    "id": "WD2sAmES6dQB"
   },
   "outputs": [],
   "source": [
    "import os\n",
    "import pprint\n",
    "import tempfile\n",
    "\n",
    "import numpy as np\n",
    "import tensorflow as  tf\n",
    "\n",
    "import tensorflow_recommenders as tfrs"
   ]
  },
  {
   "cell_type": "markdown",
   "metadata": {
    "colab_type": "text",
    "id": "Kxv8x85QIHY1"
   },
   "source": [
    "We also need to repeat the training/test splits and vocabulary building."
   ]
  },
  {
   "cell_type": "code",
   "execution_count": 0,
   "metadata": {
    "colab": {},
    "colab_type": "code",
    "id": "uHBSvbkHITdu"
   },
   "outputs": [],
   "source": [
    "ratings, movies = tfrs.datasets.movielens_100K()\n",
    "\n",
    "# Randomly shuffle data and split between train and test.\n",
    "tf.random.set_seed(42)\n",
    "shuffled = ratings.shuffle(100_000, seed=42, reshuffle_each_iteration=False)\n",
    "\n",
    "train = shuffled.take(80_000)\n",
    "test = shuffled.skip(80_000).take(20_000)\n",
    "\n",
    "movie_ids = ratings.batch(1_000_000).map(lambda x: x[\"movie_id\"])\n",
    "user_ids = ratings.batch(1_000_000).map(lambda x: x[\"user_id\"])\n",
    "\n",
    "unique_movie_ids = np.unique(np.concatenate(list(movie_ids)))\n",
    "unique_user_ids = np.unique(np.concatenate(list(user_ids)))"
   ]
  },
  {
   "cell_type": "markdown",
   "metadata": {
    "colab_type": "text",
    "id": "14rJMDmfxOT8"
   },
   "source": [
    "## Using query context information\n",
    "\n",
    "The first piece of side information we can make use of is the time when a rating is given. This will help us capture two things:\n",
    "\n",
    "1. Popularity dynamics: some movies are watched a lot when they are first released, but do not become classics. This makes them a good recommendation soon after release, but a bad recommendation later on.\n",
    "2. User tastes changing over time. Making sure our model has the capacity to express this via interactions of user embeddings and time will help us capture this."
   ]
  },
  {
   "cell_type": "markdown",
   "metadata": {
    "colab_type": "text",
    "id": "u117xGdgJS50"
   },
   "source": [
    "### Representing time\n",
    "\n",
    "Our ratings dataset has raw timestamp features:"
   ]
  },
  {
   "cell_type": "code",
   "execution_count": 0,
   "metadata": {
    "colab": {
     "height": 51
    },
    "colab_type": "code",
    "id": "Xu0WwUV0JaRP"
   },
   "outputs": [
    {
     "name": "stdout",
     "output_type": "stream",
     "text": [
      "Timestamp: 881250949\n",
      "Timestamp: 891717742\n"
     ]
    }
   ],
   "source": [
    "for row in ratings.take(2).as_numpy_iterator():\n",
    "  print(f\"Timestamp: {row['timestamp']}\")"
   ]
  },
  {
   "cell_type": "markdown",
   "metadata": {
    "colab_type": "text",
    "id": "zhyRhTPQJtUw"
   },
   "source": [
    "We can't use this directly: we need normalized features in order to make our learning algorithm stable.\n",
    "\n",
    "There are many ways of doing this:\n",
    "1. We could treat time as a continuous feature, and scale it to lie between 0 and 1. This coule be done via quantile scaling (like in sklearn's [QuantileTransformer](https://scikit-learn.org/stable/modules/generated/sklearn.preprocessing.QuantileTransformer.html)) or through any variety of other methods that map an arbitrary real variable to a fixed interval.\n",
    "2. We could treat time as a discrete variable: a series of discrete time periods.\n",
    "\n",
    "The advantage of treating time as a continuous variable is that its effects become easy to estimate: there are only a few parameters added to the model. However, given enough data, treating time as discrete gives us a more flexible model, where each period as different effects, rather than following a smooth curve over time.\n",
    "\n",
    "In this example, we're going to adopt the discrete approach. We'll start by dividing time into 100 equal buckets."
   ]
  },
  {
   "cell_type": "code",
   "execution_count": 0,
   "metadata": {
    "colab": {
     "height": 34
    },
    "colab_type": "code",
    "id": "lkoxVjgVxg8P"
   },
   "outputs": [
    {
     "name": "stdout",
     "output_type": "stream",
     "text": [
      "Buckets: [8.74724710e+08 8.74912204e+08 8.75099698e+08]\n"
     ]
    }
   ],
   "source": [
    "max_timestamp = ratings.map(lambda x: x[\"timestamp\"]).reduce(0, tf.maximum).numpy().max()\n",
    "min_timestamp = ratings.map(lambda x: x[\"timestamp\"]).reduce(np.int32(1e9), tf.minimum).numpy().min()\n",
    "\n",
    "timestamp_buckets = np.linspace(min_timestamp, max_timestamp, num=100)\n",
    "\n",
    "print(f\"Buckets: {timestamp_buckets[:3]}\")"
   ]
  },
  {
   "cell_type": "markdown",
   "metadata": {
    "colab_type": "text",
    "id": "JrXeuhFOPORV"
   },
   "source": [
    "### Query model\n",
    "\n",
    "We can now map those into embeddings via definig appropriate feature columns for our query model."
   ]
  },
  {
   "cell_type": "code",
   "execution_count": 0,
   "metadata": {
    "colab": {},
    "colab_type": "code",
    "id": "xC-1HkpiPTzZ"
   },
   "outputs": [],
   "source": [
    "embedding_dimension = 32\n",
    "\n",
    "#  An embedding column for user ids, as before.\n",
    "user_id_feature = tf.feature_column.embedding_column(\n",
    "        tf.feature_column.categorical_column_with_vocabulary_list(\n",
    "            \"user_id\", unique_user_ids),\n",
    "        embedding_dimension)\n",
    "\n",
    "# An embedding column for the bucketized timestamps: there will be a separate\n",
    "# embedding for each of the timestamp buckets.\n",
    "time_feature = tf.feature_column.embedding_column(\n",
    "        tf.feature_column.bucketized_column(\n",
    "            tf.feature_column.numeric_column(\"timestamp\"),\n",
    "            timestamp_buckets.tolist()),\n",
    "        embedding_dimension)"
   ]
  },
  {
   "cell_type": "markdown",
   "metadata": {
    "colab_type": "text",
    "id": "AaDfwwsJQDOG"
   },
   "source": [
    "We can now use these features in the model. While we could use complex models here, let's start with something simple: we simply concatenate the time and user embedding, and project them onto the item embedding dimension (remember, the output dimensionality between the user model and the candidate model has to be the same)."
   ]
  },
  {
   "cell_type": "code",
   "execution_count": 0,
   "metadata": {
    "colab": {},
    "colab_type": "code",
    "id": "jKpA9-ytQ0A1"
   },
   "outputs": [],
   "source": [
    "user_model = tf.keras.Sequential([\n",
    "  tf.keras.layers.DenseFeatures([user_id_feature, time_feature]),\n",
    "  tf.keras.layers.Dense(embedding_dimension)\n",
    "])"
   ]
  },
  {
   "cell_type": "markdown",
   "metadata": {
    "colab_type": "text",
    "id": "GtD25VQfRaTO"
   },
   "source": [
    "### Candidate model\n",
    "\n",
    "Let's keep the candidate model as before - using id information only - and see what effect the inclusion of context information has on the model's accuracy."
   ]
  },
  {
   "cell_type": "code",
   "execution_count": 0,
   "metadata": {
    "colab": {},
    "colab_type": "code",
    "id": "pyCLTbDZRjNo"
   },
   "outputs": [],
   "source": [
    "movie_features = [tf.feature_column.embedding_column(\n",
    "  tf.feature_column.categorical_column_with_vocabulary_list(\n",
    "    \"movie_id\", list(unique_movie_ids)),\n",
    "  embedding_dimension)]\n",
    "\n",
    "movie_model = tf.keras.Sequential([tf.keras.layers.DenseFeatures(movie_features)])"
   ]
  },
  {
   "cell_type": "markdown",
   "metadata": {
    "colab_type": "text",
    "id": "exbGTpplaq2e"
   },
   "source": [
    "### Putting it all together\n",
    "\n",
    "As before, we put it all together in a model class we'll use for fitting and evaluation."
   ]
  },
  {
   "cell_type": "code",
   "execution_count": 0,
   "metadata": {
    "colab": {},
    "colab_type": "code",
    "id": "-O1DKkxB0E94"
   },
   "outputs": [],
   "source": [
    "class MovielensModel(tfrs.models.Model):\n",
    "\n",
    "  def __init__(self):\n",
    "    super().__init__()\n",
    "\n",
    "    self.user_model: tf.keras.Model = user_model\n",
    "    self.movie_model: tf.keras.Model = movie_model\n",
    "    self.task = tfrs.tasks.RetrievalTask(\n",
    "      corpus_metrics=tfrs.metrics.FactorizedTopK(\n",
    "        candidates=movies.batch(128).map(movie_model)\n",
    "      )\n",
    "    )\n",
    "\n",
    "  def compute_loss(self, features, training=False):\n",
    "\n",
    "    user_embeddings = self.user_model({\"user_id\": features[\"user_id\"],\n",
    "                                       \"timestamp\": features[\"timestamp\"]})\n",
    "    positive_movie_embeddings = self.movie_model(\n",
    "        {\"movie_id\": features[\"movie_id\"]})\n",
    "\n",
    "    return self.task(user_embeddings, positive_movie_embeddings)"
   ]
  },
  {
   "cell_type": "code",
   "execution_count": 0,
   "metadata": {
    "colab": {
     "height": 54
    },
    "colab_type": "code",
    "id": "aW63YaqP2wCf"
   },
   "outputs": [
    {
     "name": "stderr",
     "output_type": "stream",
     "text": []
    }
   ],
   "source": [
    "model = MovielensModel()\n",
    "model.compile(optimizer=tf.keras.optimizers.Adagrad(learning_rate=0.1))"
   ]
  },
  {
   "cell_type": "markdown",
   "metadata": {
    "colab_type": "text",
    "id": "Nma0vc2XdN5g"
   },
   "source": [
    "Then shuffle, batch, and cache the training and evaluation data."
   ]
  },
  {
   "cell_type": "code",
   "execution_count": 0,
   "metadata": {
    "colab": {},
    "colab_type": "code",
    "id": "53QJwY1gUnfv"
   },
   "outputs": [],
   "source": [
    "cached_train = train.shuffle(100_000).batch(8192).cache()\n",
    "cached_test = test.batch(4096).cache()"
   ]
  },
  {
   "cell_type": "markdown",
   "metadata": {
    "colab_type": "text",
    "id": "u8mHTxKAdTJO"
   },
   "source": [
    "Then train the  model:"
   ]
  },
  {
   "cell_type": "code",
   "execution_count": 0,
   "metadata": {
    "colab": {
     "height": 394
    },
    "colab_type": "code",
    "id": "ZxPntlT8EFOZ"
   },
   "outputs": [
    {
     "name": "stdout",
     "output_type": "stream",
     "text": [
      "Epoch 1/10\n",
      "10/10 [==============================] - 3s 321ms/step - factorized_top_k: 0.0344 - factorized_top_k/top_1_categorical_accuracy: 8.7500e-04 - factorized_top_k/top_5_categorical_accuracy: 0.0058 - factorized_top_k/top_10_categorical_accuracy: 0.0115 - factorized_top_k/top_50_categorical_accuracy: 0.0540 - factorized_top_k/top_100_categorical_accuracy: 0.1000 - loss: 69954.4148\n",
      "Epoch 2/10\n",
      "10/10 [==============================] - 3s 312ms/step - factorized_top_k: 0.0732 - factorized_top_k/top_1_categorical_accuracy: 0.0015 - factorized_top_k/top_5_categorical_accuracy: 0.0112 - factorized_top_k/top_10_categorical_accuracy: 0.0227 - factorized_top_k/top_50_categorical_accuracy: 0.1139 - factorized_top_k/top_100_categorical_accuracy: 0.2168 - loss: 67610.4489\n",
      "Epoch 3/10\n",
      "10/10 [==============================] - 3s 313ms/step - factorized_top_k: 0.0929 - factorized_top_k/top_1_categorical_accuracy: 0.0019 - factorized_top_k/top_5_categorical_accuracy: 0.0158 - factorized_top_k/top_10_categorical_accuracy: 0.0315 - factorized_top_k/top_50_categorical_accuracy: 0.1495 - factorized_top_k/top_100_categorical_accuracy: 0.2657 - loss: 66404.5412\n",
      "Epoch 4/10\n",
      "10/10 [==============================] - 3s 316ms/step - factorized_top_k: 0.1048 - factorized_top_k/top_1_categorical_accuracy: 0.0018 - factorized_top_k/top_5_categorical_accuracy: 0.0189 - factorized_top_k/top_10_categorical_accuracy: 0.0386 - factorized_top_k/top_50_categorical_accuracy: 0.1704 - factorized_top_k/top_100_categorical_accuracy: 0.2941 - loss: 65666.9169\n",
      "Epoch 5/10\n",
      "10/10 [==============================] - 3s 314ms/step - factorized_top_k: 0.1134 - factorized_top_k/top_1_categorical_accuracy: 0.0017 - factorized_top_k/top_5_categorical_accuracy: 0.0222 - factorized_top_k/top_10_categorical_accuracy: 0.0446 - factorized_top_k/top_50_categorical_accuracy: 0.1855 - factorized_top_k/top_100_categorical_accuracy: 0.3131 - loss: 65154.9148\n",
      "Epoch 6/10\n",
      "10/10 [==============================] - 3s 312ms/step - factorized_top_k: 0.1203 - factorized_top_k/top_1_categorical_accuracy: 0.0019 - factorized_top_k/top_5_categorical_accuracy: 0.0246 - factorized_top_k/top_10_categorical_accuracy: 0.0490 - factorized_top_k/top_50_categorical_accuracy: 0.1967 - factorized_top_k/top_100_categorical_accuracy: 0.3292 - loss: 64751.8686\n",
      "Epoch 7/10\n",
      "10/10 [==============================] - 3s 313ms/step - factorized_top_k: 0.1260 - factorized_top_k/top_1_categorical_accuracy: 0.0020 - factorized_top_k/top_5_categorical_accuracy: 0.0265 - factorized_top_k/top_10_categorical_accuracy: 0.0527 - factorized_top_k/top_50_categorical_accuracy: 0.2063 - factorized_top_k/top_100_categorical_accuracy: 0.3424 - loss: 64424.6996\n",
      "Epoch 8/10\n",
      "10/10 [==============================] - 3s 317ms/step - factorized_top_k: 0.1313 - factorized_top_k/top_1_categorical_accuracy: 0.0022 - factorized_top_k/top_5_categorical_accuracy: 0.0281 - factorized_top_k/top_10_categorical_accuracy: 0.0558 - factorized_top_k/top_50_categorical_accuracy: 0.2153 - factorized_top_k/top_100_categorical_accuracy: 0.3548 - loss: 64152.4879\n",
      "Epoch 9/10\n",
      "10/10 [==============================] - 3s 316ms/step - factorized_top_k: 0.1360 - factorized_top_k/top_1_categorical_accuracy: 0.0022 - factorized_top_k/top_5_categorical_accuracy: 0.0296 - factorized_top_k/top_10_categorical_accuracy: 0.0583 - factorized_top_k/top_50_categorical_accuracy: 0.2239 - factorized_top_k/top_100_categorical_accuracy: 0.3658 - loss: 63921.4915\n",
      "Epoch 10/10\n",
      "10/10 [==============================] - 3s 312ms/step - factorized_top_k: 0.1403 - factorized_top_k/top_1_categorical_accuracy: 0.0023 - factorized_top_k/top_5_categorical_accuracy: 0.0310 - factorized_top_k/top_10_categorical_accuracy: 0.0613 - factorized_top_k/top_50_categorical_accuracy: 0.2314 - factorized_top_k/top_100_categorical_accuracy: 0.3756 - loss: 63722.4453\n"
     ]
    },
    {
     "data": {
      "text/plain": [
       "<tensorflow.python.keras.callbacks.History at 0x7f003d35e518>"
      ]
     },
     "execution_count": 11,
     "metadata": {
      "tags": []
     },
     "output_type": "execute_result"
    }
   ],
   "source": [
    "model.fit(cached_train, epochs=10)"
   ]
  },
  {
   "cell_type": "markdown",
   "metadata": {
    "colab_type": "text",
    "id": "uusQ4WcCgSCo"
   },
   "source": [
    "### Results\n",
    "\n",
    "What do the results look like?"
   ]
  },
  {
   "cell_type": "code",
   "execution_count": 0,
   "metadata": {
    "colab": {
     "height": 156
    },
    "colab_type": "code",
    "id": "m6lZCalq1OwO"
   },
   "outputs": [
    {
     "name": "stdout",
     "output_type": "stream",
     "text": [
      "5/5 [==============================] - 1s 119ms/step - factorized_top_k: 0.0563 - factorized_top_k/top_1_categorical_accuracy: 2.5000e-04 - factorized_top_k/top_5_categorical_accuracy: 0.0036 - factorized_top_k/top_10_categorical_accuracy: 0.0083 - factorized_top_k/top_50_categorical_accuracy: 0.0817 - factorized_top_k/top_100_categorical_accuracy: 0.1877 - loss: 31789.7962\n"
     ]
    },
    {
     "data": {
      "text/plain": [
       "[array([0.00025, 0.0036 , 0.00835, 0.0817 , 0.1877 ], dtype=float32),\n",
       " 0.0002500000118743628,\n",
       " 0.003599999938160181,\n",
       " 0.008349999785423279,\n",
       " 0.08169999718666077,\n",
       " 0.18770000338554382]"
      ]
     },
     "execution_count": 12,
     "metadata": {
      "tags": []
     },
     "output_type": "execute_result"
    }
   ],
   "source": [
    "model.evaluate(cached_test)"
   ]
  },
  {
   "cell_type": "markdown",
   "metadata": {
    "colab_type": "text",
    "id": "cPBlwExfgU_A"
   },
   "source": [
    "Our accuracy at 100 is quite a bit better than the model from our previous tutorial: 0.19 vs 0.17. Clearly, accoutning for time is useful."
   ]
  },
  {
   "cell_type": "code",
   "execution_count": 0,
   "metadata": {
    "colab": {},
    "colab_type": "code",
    "id": "7-qPo_JAovl7"
   },
   "outputs": [],
   "source": []
  }
 ],
 "metadata": {
  "colab": {
   "collapsed_sections": [],
   "name": "movielens_side_information.ipynb",
   "toc_visible": true
  },
  "kernelspec": {
   "display_name": "Python 3",
   "name": "python3"
  }
 },
 "nbformat": 4,
 "nbformat_minor": 0
}
