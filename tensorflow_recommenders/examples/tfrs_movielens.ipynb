{
 "cells": [
  {
   "cell_type": "markdown",
   "metadata": {
    "colab_type": "text",
    "id": "kCeYA79m1DEX"
   },
   "source": [
    "# Building a movie retrieval system\n",
    "\n",
    "In this tutorial, we're going to build an end-to-end retrieval system for movies. \n",
    "\n",
    "A retrieval system is normally the first stage in a multi-stage recommender system and is responsible for retrieving a set of candidates out of a large corpus in response to a user query.\n",
    "\n",
    "Retrieval models are often composed of two sub-models:\n",
    "\n",
    "1. A query model computing the query representation (normally a fixed-dimensionality embedding vector) using query features.\n",
    "2. A candidate model computing the candidate representation (an equally-sized vector) using the candidate features\n",
    "\n",
    "The outputs of the two models are then multiplied together to give a query-candidate affinity score, with higher scores expressing a better match between the candidate and the query.\n",
    "\n",
    "In this tutorial, we're going to build and train such a two-tower model using the Movielens dataset.\n",
    "\n",
    "We're going to:\n",
    "\n",
    "1. Get our data and split it into a training and test set.\n",
    "2. Implement a retrieval model.\n",
    "3. Fit and evaluate it.\n",
    "4. Export it for efficient serving by building an approximate nearest neighbours (ANN) index.\n",
    "\n",
    "## The dataset\n",
    "\n",
    "The Movielens dataset is a classic dataset from the [GroupLens](https://grouplens.org/datasets/movielens/) research group at the University of Minnesota. It contains a set of ratings given to movies by a set of users, and is a workhorse of recommender system research.\n",
    "\n",
    "The data can be treated in two ways:\n",
    "\n",
    "1. It can be interpreted as expressesing which movies the users watched (and rated), and which they did not. This is a form of implicit feedback, where users' watches tell us which things they prefer to see and which they'd rather not see.\n",
    "2. It can also be seen as expressesing how much the users liked the movies they did watch. This is a form of explicit feedback: given that a user watched a movie, we can tell roughly how much they liked by looking at the rating they have given.\n",
    "\n",
    "In this tutorial, we are focusing on a retrieval system: a model that predicts a set of movies from the catalogue that the user is likely to watch. Often, implicit data is more useful here, and so we are going to treat Movielens as an implicit system. This means that every movie a user watched is a positive example, and every movie they have not seen is an implicit negative example.\n",
    "\n",
    "\n",
    "## Imports\n",
    "\n",
    "\n",
    "Let's first get our imports out of the way.\n",
    "\n"
   ]
  },
  {
   "cell_type": "code",
   "metadata": {
    "colab": {},
    "colab_type": "code",
    "id": "SZGYDaF-m5wZ"
   },
   "outputs": [],
   "source": [
    "import os\n",
    "import pprint\n",
    "import tempfile\n",
    "\n",
    "from typing import Dict, Text\n",
    "\n",
    "import numpy as np\n",
    "import tensorflow as  tf"
   ]
  },
  {
   "cell_type": "code",
   "metadata": {
    "colab": {},
    "colab_type": "code",
    "id": "BxQ_hy7xPH3N"
   },
   "outputs": [],
   "source": [
    "import tensorflow_recommenders as tfrs"
   ]
  },
  {
   "cell_type": "markdown",
   "metadata": {
    "colab_type": "text",
    "id": "5PAqjR4a1RR4"
   },
   "source": [
    "## Preparing the dataset\n",
    "\n",
    "Let's first have a look at the data.\n",
    "\n",
    "The `movielens_100K` function built into TFRS returns a pair of `tf.data.Dataset` objects: a dataset of ratings and a dataset of movie features."
   ]
  },
  {
   "cell_type": "code",
   "metadata": {
    "colab": {},
    "colab_type": "code",
    "id": "-ySWtibjm_6a"
   },
   "outputs": [],
   "source": [
    "ratings, movies = tfrs.datasets.movielens_100K()"
   ]
  },
  {
   "cell_type": "markdown",
   "metadata": {
    "colab_type": "text",
    "id": "JRHorm8W1yf3"
   },
   "source": [
    "The ratings dataset returns a dictionary of movie id, user id, the assigned rating, and timestamp:"
   ]
  },
  {
   "cell_type": "code",
   "metadata": {
    "colab": {
     "height": 85
    },
    "colab_type": "code",
    "id": "_1-KQV2ynMdh"
   },
   "outputs": [
    {
     "name": "stdout",
     "output_type": "stream",
     "text": [
      "{'movie_id': array([242, 302, 377,  51, 346], dtype=int32),\n",
      " 'rating': array([3., 3., 1., 2., 1.], dtype=float32),\n",
      " 'timestamp': array([881250949, 891717742, 878887116, 880606923, 886397596], dtype=int32),\n",
      " 'user_id': array([196, 186,  22, 244, 166], dtype=int32)}\n"
     ]
    }
   ],
   "source": [
    "for x in ratings.batch(5).take(1).as_numpy_iterator():\n",
    "  pprint.pprint(x)"
   ]
  },
  {
   "cell_type": "markdown",
   "metadata": {
    "colab_type": "text",
    "id": "qGLGCjSt_q96"
   },
   "source": [
    "The movies dataset contains the movie id, movie title, its release data, and data on what genres it belongs to:"
   ]
  },
  {
   "cell_type": "code",
   "metadata": {
    "colab": {
     "height": 442
    },
    "colab_type": "code",
    "id": "kHLsIHhw_x1d"
   },
   "outputs": [
    {
     "name": "stdout",
     "output_type": "stream",
     "text": [
      "{'Action': array([0.], dtype=float32),\n",
      " 'Adventure': array([0.], dtype=float32),\n",
      " 'Animation': array([1.], dtype=float32),\n",
      " \"Children's\": array([1.], dtype=float32),\n",
      " 'Comedy': array([1.], dtype=float32),\n",
      " 'Crime': array([0.], dtype=float32),\n",
      " 'Documentary': array([0.], dtype=float32),\n",
      " 'Drama': array([0.], dtype=float32),\n",
      " 'Fantasy': array([0.], dtype=float32),\n",
      " 'Film-Noir': array([0.], dtype=float32),\n",
      " 'Horror': array([0.], dtype=float32),\n",
      " 'IMDb URL': array([b'http://us.imdb.com/M/title-exact?Toy%20Story%20(1995)'],\n",
      "      dtype=object),\n",
      " 'Musical': array([0.], dtype=float32),\n",
      " 'Mystery': array([0.], dtype=float32),\n",
      " 'Romance': array([0.], dtype=float32),\n",
      " 'Sci-Fi': array([0.], dtype=float32),\n",
      " 'Thriller': array([0.], dtype=float32),\n",
      " 'War': array([0.], dtype=float32),\n",
      " 'Western': array([0.], dtype=float32),\n",
      " 'movie_id': array([1], dtype=int32),\n",
      " 'movie_title': array([b'Toy Story (1995)'], dtype=object),\n",
      " 'release_date': array([b'01-Jan-1995'], dtype=object),\n",
      " 'unknown': array([0.], dtype=float32),\n",
      " 'video_release_date': array([b''], dtype=object)}\n"
     ]
    }
   ],
   "source": [
    "for x in movies.batch(1).take(1).as_numpy_iterator():\n",
    "  pprint.pprint(x)"
   ]
  },
  {
   "cell_type": "markdown",
   "metadata": {
    "colab_type": "text",
    "id": "Iu4XSa_G1nyN"
   },
   "source": [
    "In this example, we're going to focus on the ratings data. Other tutorials explore how to use the movie information data as well to improve the model quality.\n",
    "\n",
    "To fit and evaluate the model, we need to split it into a training and evaluation set. In an industrial recommender system, this would most likely be done by time: the data up to time $T$ would be used to predict interactions after $T$.\n",
    "\n",
    "\n",
    "In this simple example, however, let's use a random split, putting 80% of the ratings in the train set, and 20% in the test set."
   ]
  },
  {
   "cell_type": "code",
   "metadata": {
    "colab": {},
    "colab_type": "code",
    "id": "rS0eDfkjnjJL"
   },
   "outputs": [],
   "source": [
    "tf.random.set_seed(42)\n",
    "shuffled = ratings.shuffle(100_000, seed=42, reshuffle_each_iteration=False)\n",
    "\n",
    "train = shuffled.take(80_000)\n",
    "test = shuffled.skip(80_000).take(20_000)"
   ]
  },
  {
   "cell_type": "markdown",
   "metadata": {
    "colab_type": "text",
    "id": "gVi1HJfR9D7H"
   },
   "source": [
    "Let's also figure out unique user ids and movie ids present in the data. \n",
    "\n",
    "This is important because we need to be able to map the raw values of our categorical features to embedding vectors in our models. To do that, we need a vocabulary that maps a raw feature value to an integer in a contiguous range: this allows us to look up the corresponding embeddings in our embedding tables."
   ]
  },
  {
   "cell_type": "code",
   "metadata": {
    "colab": {
     "height": 34
    },
    "colab_type": "code",
    "id": "MKROCiPo_5LJ"
   },
   "outputs": [
    {
     "data": {
      "text/plain": [
       "array([ 1,  2,  3,  4,  5,  6,  7,  8,  9, 10], dtype=int32)"
      ]
     },
     "execution_count": 7,
     "metadata": {
      "tags": []
     },
     "output_type": "execute_result"
    }
   ],
   "source": [
    "movie_ids = ratings.batch(1_000_000).map(lambda x: x[\"movie_id\"])\n",
    "user_ids = ratings.batch(1_000_000).map(lambda x: x[\"user_id\"])\n",
    "\n",
    "unique_movie_ids = np.unique(np.concatenate(list(movie_ids)))\n",
    "unique_user_ids = np.unique(np.concatenate(list(user_ids)))\n",
    "\n",
    "unique_movie_ids[:10]"
   ]
  },
  {
   "cell_type": "markdown",
   "metadata": {
    "colab_type": "text",
    "id": "eCi-seR86qqa"
   },
   "source": [
    "## Implementing a model\n",
    "\n",
    "This is the critical section where we choose the architecure of our model.\n",
    "\n",
    "Because we are building a two-tower retrieval model, we can build each tower separately and then combine them in the final model."
   ]
  },
  {
   "cell_type": "markdown",
   "metadata": {
    "colab_type": "text",
    "id": "z20PyfSXP3Um"
   },
   "source": [
    "### The query tower\n",
    "\n",
    "Let's start with the query tower.\n",
    "\n",
    "The first step is to decide on the dimensionality of the query and candidate representations:"
   ]
  },
  {
   "cell_type": "code",
   "metadata": {
    "colab": {},
    "colab_type": "code",
    "id": "QbIy1FP8aCTq"
   },
   "outputs": [],
   "source": [
    "embedding_dimension = 32"
   ]
  },
  {
   "cell_type": "markdown",
   "metadata": {
    "colab_type": "text",
    "id": "IJYwjpLRaEzj"
   },
   "source": [
    "The second is to define the input features. Here, we're going to use [feature columns](https://www.tensorflow.org/tutorials/structured_data/feature_columns), to define a simple embedding layer, taking `user_id` as its only input feature. Note that we use the list of unique user ids we computed earlier as a vocabulary:"
   ]
  },
  {
   "cell_type": "code",
   "metadata": {
    "colab": {},
    "colab_type": "code",
    "id": "kHQZJEhXP93N"
   },
   "outputs": [],
   "source": [
    "user_features = [tf.feature_column.embedding_column(\n",
    "        tf.feature_column.categorical_column_with_vocabulary_list(\n",
    "            \"user_id\", unique_user_ids),\n",
    "        embedding_dimension)]\n",
    "\n",
    "# The model itself is a single embedding layer.\n",
    "# However, we could expand this to an arbitrarily complicated Keras model, as long\n",
    "# as the output is an vector `embedding_dimension` wide.\n",
    "user_model = tf.keras.Sequential([tf.keras.layers.DenseFeatures(user_features)])"
   ]
  },
  {
   "cell_type": "markdown",
   "metadata": {
    "colab_type": "text",
    "id": "Qvo2pEcdaiec"
   },
   "source": [
    "A simple model like corresponds exactly to a classic [matrix factorization](https://ieeexplore.ieee.org/abstract/document/4781121) approach. However, we could easily extend it to an arbitrarily complex model using standard Keras components, as long as we return an `embedding_dimension`-wide output at the end."
   ]
  },
  {
   "cell_type": "markdown",
   "metadata": {
    "colab_type": "text",
    "id": "dG4YFy9SQ08d"
   },
   "source": [
    "### The candidate tower\n",
    "\n",
    "We can do the same with the candidate tower."
   ]
  },
  {
   "cell_type": "code",
   "metadata": {
    "colab": {},
    "colab_type": "code",
    "id": "qNUwfIJTQ332"
   },
   "outputs": [],
   "source": [
    "movie_features = [tf.feature_column.embedding_column(\n",
    "  tf.feature_column.categorical_column_with_vocabulary_list(\n",
    "    \"movie_id\", list(unique_movie_ids)),\n",
    "  embedding_dimension)]\n",
    "\n",
    "movie_model = tf.keras.Sequential([tf.keras.layers.DenseFeatures(movie_features)])"
   ]
  },
  {
   "cell_type": "markdown",
   "metadata": {
    "colab_type": "text",
    "id": "r10RiPtqVIAl"
   },
   "source": [
    "### Metrics\n",
    "\n",
    "In our training data we have positive (user, movie) pairs. To figure out how good our model is, we need to compare the affinity score that the model calculates for this pair to the scores of all the other possible candidates: if the score for the positive pair is higher than for all other candidates, our model is highly accurate.\n",
    "\n",
    "To do this, we can use the `tfrs.metrics.FactorizedTopK` metric. The metric has one required argument: the dataset of candidates that are used as implicit negatives for evaluation.\n",
    "\n",
    "In our case, that's the `movies` dataset, converted into embeddings via our movie model:"
   ]
  },
  {
   "cell_type": "code",
   "metadata": {
    "colab": {
     "height": 54
    },
    "colab_type": "code",
    "id": "1dLDL6pZVPO8"
   },
   "outputs": [
    {
     "name": "stderr",
     "output_type": "stream",
     "text": [
       ""
     ]
    }
   ],
   "source": [
    "metrics = tfrs.metrics.FactorizedTopK(\n",
    "  candidates=movies.batch(128).map(movie_model)\n",
    ")"
   ]
  },
  {
   "cell_type": "markdown",
   "metadata": {
    "colab_type": "text",
    "id": "nCaCqJsXSkCo"
   },
   "source": [
    "### Loss\n",
    "\n",
    "The next component is the loss used to train our model. TFRS has several loss layers and tasks to make this easy.\n",
    "\n",
    "In this instance, we'll make use of the `RetrievalTask` object: a convenience wrapper that bundles together the loss function and metric computation:"
   ]
  },
  {
   "cell_type": "code",
   "metadata": {
    "colab": {},
    "colab_type": "code",
    "id": "tJ61Iz2QTBw3"
   },
   "outputs": [],
   "source": [
    "task = tfrs.tasks.RetrievalTask(\n",
    "  corpus_metrics=metrics\n",
    ")"
   ]
  },
  {
   "cell_type": "markdown",
   "metadata": {
    "colab_type": "text",
    "id": "9-3xFC-1cbz0"
   },
   "source": [
    "The task itself is a Keras layer that takes the query and candidate embeddings as arguments, and returns the computed loss: we'll use that to implement the model's training loop."
   ]
  },
  {
   "cell_type": "markdown",
   "metadata": {
    "colab_type": "text",
    "id": "FZUFeSlWRHGx"
   },
   "source": [
    "### The full model\n",
    "\n",
    "We can now put it all together into a model. TFRS exposes a base model class `tfrs.models.Model` which streamlines bulding models: all we need to do is to set up the components in the `__init__` method, and implement the `train_loss` method, taking in the raw features and returning a loss value.\n",
    "\n",
    "The base model will then take care of creating the appropriate training loop to fit our model."
   ]
  },
  {
   "cell_type": "code",
   "metadata": {
    "colab": {},
    "colab_type": "code",
    "id": "8n7c5CHFp0ow"
   },
   "outputs": [],
   "source": [
    "class MovielensModel(tfrs.models.Model):\n",
    "\n",
    "  def __init__(self):\n",
    "    super().__init__()\n",
    "\n",
    "    self.movie_model: tf.keras.layers.Layer = movie_model\n",
    "    self.user_model: tf.keras.layers.Layer = user_model\n",
    "    self.task: tf.keras.layers.Layer = task\n",
    "\n",
    "  def train_loss(self, features: Dict[Text, tf.Tensor]) -> tf.Tensor:\n",
    "\n",
    "    # We pick out the user features and pass them into the user model.\n",
    "    user_embeddings = self.user_model({\"user_id\": features[\"user_id\"]})\n",
    "    # And pick out the movie features and pass them into the movie model,\n",
    "    # getting embeddings back.\n",
    "    positive_movie_embeddings = self.movie_model(\n",
    "        {\"movie_id\": features[\"movie_id\"]})\n",
    "\n",
    "    # The task computes the loss and the metrics.\n",
    "    return self.task(user_embeddings, positive_movie_embeddings)"
   ]
  },
  {
   "cell_type": "markdown",
   "metadata": {
    "colab_type": "text",
    "id": "yDN_LJGlnRGo"
   },
   "source": [
    "## Fitting and evaluating\n",
    "\n",
    "After defining the model, we can use standard Keras fitting and evaluation routines to fit and evaluate the model.\n",
    "\n",
    "Let's first instantiate the model."
   ]
  },
  {
   "cell_type": "code",
   "metadata": {
    "colab": {},
    "colab_type": "code",
    "id": "aW63YaqP2wCf"
   },
   "outputs": [],
   "source": [
    "model = MovielensModel()\n",
    "model.compile(optimizer=tf.keras.optimizers.Adagrad(learning_rate=0.1))"
   ]
  },
  {
   "cell_type": "markdown",
   "metadata": {
    "colab_type": "text",
    "id": "Nma0vc2XdN5g"
   },
   "source": [
    "Then shuffle, batch, and cache the training and evaluation data."
   ]
  },
  {
   "cell_type": "code",
   "metadata": {
    "colab": {},
    "colab_type": "code",
    "id": "53QJwY1gUnfv"
   },
   "outputs": [],
   "source": [
    "cached_train = train.shuffle(100_000).batch(8192).cache()\n",
    "cached_test = test.batch(4096).cache()"
   ]
  },
  {
   "cell_type": "markdown",
   "metadata": {
    "colab_type": "text",
    "id": "u8mHTxKAdTJO"
   },
   "source": [
    "Then train the  model:"
   ]
  },
  {
   "cell_type": "code",
   "metadata": {
    "colab": {
     "height": 394
    },
    "colab_type": "code",
    "id": "ZxPntlT8EFOZ"
   },
   "outputs": [
    {
     "name": "stdout",
     "output_type": "stream",
     "text": [
      "Epoch 1/10\n",
      "10/10 [==============================] - 3s 328ms/step - factorized_top_k: 0.0265 - factorized_top_k/top_1_categorical_accuracy: 4.7500e-04 - factorized_top_k/top_5_categorical_accuracy: 0.0035 - factorized_top_k/top_10_categorical_accuracy: 0.0075 - factorized_top_k/top_50_categorical_accuracy: 0.0408 - factorized_top_k/top_100_categorical_accuracy: 0.0802 - loss: 70202.7635\n",
      "Epoch 2/10\n",
      "10/10 [==============================] - 3s 315ms/step - factorized_top_k: 0.1048 - factorized_top_k/top_1_categorical_accuracy: 0.0028 - factorized_top_k/top_5_categorical_accuracy: 0.0196 - factorized_top_k/top_10_categorical_accuracy: 0.0386 - factorized_top_k/top_50_categorical_accuracy: 0.1717 - factorized_top_k/top_100_categorical_accuracy: 0.2914 - loss: 67790.2997\n",
      "Epoch 3/10\n",
      "10/10 [==============================] - 3s 315ms/step - factorized_top_k: 0.1188 - factorized_top_k/top_1_categorical_accuracy: 0.0030 - factorized_top_k/top_5_categorical_accuracy: 0.0239 - factorized_top_k/top_10_categorical_accuracy: 0.0489 - factorized_top_k/top_50_categorical_accuracy: 0.1944 - factorized_top_k/top_100_categorical_accuracy: 0.3237 - loss: 66394.4162\n",
      "Epoch 4/10\n",
      "10/10 [==============================] - 3s 316ms/step - factorized_top_k: 0.1267 - factorized_top_k/top_1_categorical_accuracy: 0.0029 - factorized_top_k/top_5_categorical_accuracy: 0.0271 - factorized_top_k/top_10_categorical_accuracy: 0.0539 - factorized_top_k/top_50_categorical_accuracy: 0.2089 - factorized_top_k/top_100_categorical_accuracy: 0.3408 - loss: 65615.1136\n",
      "Epoch 5/10\n",
      "10/10 [==============================] - 3s 318ms/step - factorized_top_k: 0.1325 - factorized_top_k/top_1_categorical_accuracy: 0.0027 - factorized_top_k/top_5_categorical_accuracy: 0.0290 - factorized_top_k/top_10_categorical_accuracy: 0.0585 - factorized_top_k/top_50_categorical_accuracy: 0.2198 - factorized_top_k/top_100_categorical_accuracy: 0.3526 - loss: 65090.6676\n",
      "Epoch 6/10\n",
      "10/10 [==============================] - 3s 316ms/step - factorized_top_k: 0.1368 - factorized_top_k/top_1_categorical_accuracy: 0.0029 - factorized_top_k/top_5_categorical_accuracy: 0.0304 - factorized_top_k/top_10_categorical_accuracy: 0.0616 - factorized_top_k/top_50_categorical_accuracy: 0.2281 - factorized_top_k/top_100_categorical_accuracy: 0.3610 - loss: 64706.4688\n",
      "Epoch 7/10\n",
      "10/10 [==============================] - 3s 320ms/step - factorized_top_k: 0.1401 - factorized_top_k/top_1_categorical_accuracy: 0.0026 - factorized_top_k/top_5_categorical_accuracy: 0.0321 - factorized_top_k/top_10_categorical_accuracy: 0.0640 - factorized_top_k/top_50_categorical_accuracy: 0.2341 - factorized_top_k/top_100_categorical_accuracy: 0.3676 - loss: 64410.2670\n",
      "Epoch 8/10\n",
      "10/10 [==============================] - 3s 317ms/step - factorized_top_k: 0.1423 - factorized_top_k/top_1_categorical_accuracy: 0.0025 - factorized_top_k/top_5_categorical_accuracy: 0.0331 - factorized_top_k/top_10_categorical_accuracy: 0.0657 - factorized_top_k/top_50_categorical_accuracy: 0.2376 - factorized_top_k/top_100_categorical_accuracy: 0.3723 - loss: 64173.8054\n",
      "Epoch 9/10\n",
      "10/10 [==============================] - 3s 319ms/step - factorized_top_k: 0.1440 - factorized_top_k/top_1_categorical_accuracy: 0.0024 - factorized_top_k/top_5_categorical_accuracy: 0.0343 - factorized_top_k/top_10_categorical_accuracy: 0.0670 - factorized_top_k/top_50_categorical_accuracy: 0.2413 - factorized_top_k/top_100_categorical_accuracy: 0.3751 - loss: 63979.9581\n",
      "Epoch 10/10\n",
      "10/10 [==============================] - 3s 320ms/step - factorized_top_k: 0.1456 - factorized_top_k/top_1_categorical_accuracy: 0.0023 - factorized_top_k/top_5_categorical_accuracy: 0.0349 - factorized_top_k/top_10_categorical_accuracy: 0.0677 - factorized_top_k/top_50_categorical_accuracy: 0.2442 - factorized_top_k/top_100_categorical_accuracy: 0.3791 - loss: 63817.6129\n"
     ]
    },
    {
     "data": {
      "text/plain": [
       "<tensorflow.python.keras.callbacks.History at 0x7fcd87698630>"
      ]
     },
     "execution_count": 16,
     "metadata": {
      "tags": []
     },
     "output_type": "execute_result"
    }
   ],
   "source": [
    "model.fit(cached_train, epochs=10)"
   ]
  },
  {
   "cell_type": "markdown",
   "metadata": {
    "colab_type": "text",
    "id": "YsluR8audV9W"
   },
   "source": [
    "As the model trains, the loss is falling and a set of top-k retrieval metrics is updated. These tell us whether the true positive is in the top-k retrieved items from the entire candidate set. For example, a top-5 categorical accuracy metric of 0.2 would tell us that, on average, the true positive is in the top 5 retrieved items 20% of the time.\n",
    "\n",
    "Note that, in this example, we evaluate the metrics during training as well as evaluation. Because this can be quite slow with large candidate sets, it may be prudent to turn metric calculation off in training, and only run it in evaluation."
   ]
  },
  {
   "cell_type": "markdown",
   "metadata": {
    "colab_type": "text",
    "id": "7Gxp5RLFcv64"
   },
   "source": [
    "Finally, we can evaluate our model on the test set:"
   ]
  },
  {
   "cell_type": "code",
   "metadata": {
    "colab": {
     "height": 190
    },
    "colab_type": "code",
    "id": "W-zu6HLODNeI"
   },
   "outputs": [
    {
     "name": "stdout",
     "output_type": "stream",
     "text": [
      "5/5 [==============================] - 1s 124ms/step - factorized_top_k: 0.0499 - factorized_top_k/top_1_categorical_accuracy: 5.0000e-05 - factorized_top_k/top_5_categorical_accuracy: 0.0026 - factorized_top_k/top_10_categorical_accuracy: 0.0068 - factorized_top_k/top_50_categorical_accuracy: 0.0736 - factorized_top_k/top_100_categorical_accuracy: 0.1665 - loss: 31875.6068\n"
     ]
    },
    {
     "data": {
      "text/plain": [
       "{'factorized_top_k': array([5.0000e-05, 2.6500e-03, 6.7500e-03, 7.3600e-02, 1.6655e-01],\n",
       "       dtype=float32),\n",
       " 'factorized_top_k/top_1_categorical_accuracy': 4.999999873689376e-05,\n",
       " 'factorized_top_k/top_5_categorical_accuracy': 0.0026499999221414328,\n",
       " 'factorized_top_k/top_10_categorical_accuracy': 0.006750000175088644,\n",
       " 'factorized_top_k/top_50_categorical_accuracy': 0.07360000163316727,\n",
       " 'factorized_top_k/top_100_categorical_accuracy': 0.16654999554157257,\n",
       " 'loss': 29046.48046875}"
      ]
     },
     "execution_count": 17,
     "metadata": {
      "tags": []
     },
     "output_type": "execute_result"
    }
   ],
   "source": [
    "model.evaluate(cached_test, return_dict=True)"
   ]
  },
  {
   "cell_type": "markdown",
   "metadata": {
    "colab_type": "text",
    "id": "JKZyP9A1dxit"
   },
   "source": [
    "Test set performance is much worse than training performance. This is due to two factors:\n",
    "\n",
    "1. Our model is likely to perform better on the data that it has seen, simply because it can memorize it. This overfitting phenomenon is especially strong when models have many parameters. It can be mediated by model regularization and use of user and movie features that help the model generalize better to unseen data.\n",
    "2. The model is re-recommending some of users' already watched movies. These known-positive watches can crowd out test movies out of top K recommendations.\n",
    "\n",
    "The second phenomenon can be tackled by excluding previously seen movies from test recommendations."
   ]
  },
  {
   "cell_type": "code",
   "metadata": {
    "colab": {
     "height": 34
    },
    "colab_type": "code",
    "id": "R5WBNgdAdvJk"
   },
   "outputs": [
    {
     "data": {
      "text/plain": [
       "{'precision_at_k': 0.06666666666666667, 'recall_at_k': 0.05449043107495953}"
      ]
     },
     "execution_count": 18,
     "metadata": {
      "tags": []
     },
     "output_type": "execute_result"
    }
   ],
   "source": [
    "tfrs.examples.movielens.evaluate(\n",
    "    user_model=model.user_model,\n",
    "    movie_model=model.movie_model,\n",
    "    test=test,\n",
    "    movies=movies,\n",
    "    train=train,\n",
    "    k=10\n",
    ")"
   ]
  },
  {
   "cell_type": "markdown",
   "metadata": {
    "colab_type": "text",
    "id": "TrS6pOzveZjM"
   },
   "source": [
    "These values are higher than if we did not exclude the training set watches:"
   ]
  },
  {
   "cell_type": "code",
   "metadata": {
    "colab": {
     "height": 34
    },
    "colab_type": "code",
    "id": "AaHbFcQteeYL"
   },
   "outputs": [
    {
     "data": {
      "text/plain": [
       "{'precision_at_k': 0.014437367303609342, 'recall_at_k': 0.014993950708787618}"
      ]
     },
     "execution_count": 19,
     "metadata": {
      "tags": []
     },
     "output_type": "execute_result"
    }
   ],
   "source": [
    "tfrs.examples.movielens.evaluate(\n",
    "    user_model=model.user_model,\n",
    "    movie_model=model.movie_model,\n",
    "    test=test,\n",
    "    movies=movies,\n",
    "    train=None,\n",
    "    k=10\n",
    ")"
   ]
  },
  {
   "cell_type": "markdown",
   "metadata": {
    "colab_type": "text",
    "id": "HP1JtIBPgOxg"
   },
   "source": [
    "Of course, accuracy on the training set is still much higher:"
   ]
  },
  {
   "cell_type": "code",
   "metadata": {
    "colab": {
     "height": 34
    },
    "colab_type": "code",
    "id": "USFkEXEXgStK"
   },
   "outputs": [
    {
     "data": {
      "text/plain": [
       "{'precision_at_k': 0.6779427359490986, 'recall_at_k': 0.15321799439374054}"
      ]
     },
     "execution_count": 20,
     "metadata": {
      "tags": []
     },
     "output_type": "execute_result"
    }
   ],
   "source": [
    "tfrs.examples.movielens.evaluate(\n",
    "    user_model=model.user_model,\n",
    "    movie_model=model.movie_model,\n",
    "    test=train,\n",
    "    movies=movies,\n",
    "    k=10\n",
    ")"
   ]
  },
  {
   "cell_type": "markdown",
   "metadata": {
    "colab_type": "text",
    "id": "NB2v43NJU3Xf"
   },
   "source": [
    "## Making predictions\n",
    "\n",
    "Now that we have a model, we would like to be able to make predictions. We can use the `DatasetIndexedTopK` layer to do this."
   ]
  },
  {
   "cell_type": "code",
   "metadata": {
    "colab": {},
    "colab_type": "code",
    "id": "IRD6bEtZW_8j"
   },
   "outputs": [],
   "source": [
    "top_k = tfrs.layers.corpus.DatasetIndexedTopK(\n",
    "    # We transform the movies dataset into pairs of (movie title, movie embedding)\n",
    "    # to allow us to retrieve most highly scored titles given embedding.\n",
    "    # We use the `cache` transformation to make sure we don't recompute\n",
    "    # movie embeddings every time we score a query.\n",
    "    candidates=movies.batch(4096).map(lambda x: (x[\"movie_title\"], model.movie_model(x))).cache()\n",
    ")"
   ]
  },
  {
   "cell_type": "markdown",
   "metadata": {
    "colab_type": "text",
    "id": "fPYT_2isZ4C-"
   },
   "source": [
    "Now that we have the candidate layer, all that remains is to get some user embeddings and run the top k queries:"
   ]
  },
  {
   "cell_type": "code",
   "metadata": {
    "colab": {
     "height": 255
    },
    "colab_type": "code",
    "id": "fGgTesLlX7Vl"
   },
   "outputs": [
    {
     "name": "stdout",
     "output_type": "stream",
     "text": [
      "Top titles for user 10: [[b'Wonderful, Horrible Life of Leni Riefenstahl, The (1993)'\n",
      "  b'House of the Spirits, The (1993)' b'Laura (1944)'\n",
      "  b'Big Sleep, The (1946)' b'Charade (1963)' b'Red Rock West (1992)'\n",
      "  b'His Girl Friday (1940)' b'Kicking and Screaming (1995)'\n",
      "  b'Band Wagon, The (1953)' b'Shall We Dance? (1937)']]\n",
      "Top titles for user 123: [[b'Love in the Afternoon (1957)' b'Laura (1944)'\n",
      "  b'House of the Spirits, The (1993)' b'Innocents, The (1961)'\n",
      "  b'Third Man, The (1949)' b'Roman Holiday (1953)' b'Raging Bull (1980)'\n",
      "  b'Bonnie and Clyde (1967)' b'Paths of Glory (1957)'\n",
      "  b'Secrets & Lies (1996)']]\n",
      "Top titles for user 557: [[b'Ice Storm, The (1997)' b'Welcome To Sarajevo (1997)'\n",
      "  b'In the Company of Men (1997)' b'Gabbeh (1996)' b'Senseless (1998)'\n",
      "  b'House of Yes, The (1997)' b\"Eve's Bayou (1997)\"\n",
      "  b'Pillow Book, The (1995)' b'Cop Land (1997)' b'U Turn (1997)']]\n"
     ]
    }
   ],
   "source": [
    "for user_id in (10, 123, 557):\n",
    "  _, top_titles = top_k(model.user_model({\"user_id\": [user_id]}))\n",
    "  print(f\"Top titles for user {user_id}: {top_titles}\")"
   ]
  },
  {
   "cell_type": "markdown",
   "metadata": {
    "colab_type": "text",
    "id": "pFlvp5DK4Ow8"
   },
   "source": [
    "## Model serving\n",
    "\n",
    "After the model is trained, we need a way to deploy it.\n",
    "\n",
    "In a two-tower retrieval model, serving has two components:\n",
    "\n",
    "- a serving query model, taking in features of the query and transforming them into a query embedding, and\n",
    "- a serving candidate model. This most often takes the form of an approximate nearest neighbours (ANN) index which allows fast approximate lookup of candidates in response to a query produced by the query model."
   ]
  },
  {
   "cell_type": "markdown",
   "metadata": {
    "colab_type": "text",
    "id": "PIJ2GK9k-vHe"
   },
   "source": [
    "### Exporting a query model to serving\n",
    "\n",
    "Exporting the query model is easy: we can either serialize the Keras model directly, or export it to a `SavedModel` format to make it possible to serve using [TensorFlow Serving](https://www.tensorflow.org/tfx/guide/serving).\n",
    "\n",
    "To export to a `SavedModel` format, we can do the following:"
   ]
  },
  {
   "cell_type": "code",
   "metadata": {
    "colab": {
     "height": 34
    },
    "colab_type": "code",
    "id": "wi72fBjan0JU"
   },
   "outputs": [
    {
     "name": "stdout",
     "output_type": "stream",
     "text": [
      "Query embedding: [-0.83877546 -0.16073981  0.10314572]\n"
     ]
    }
   ],
   "source": [
    "# Export the query model.\n",
    "with tempfile.TemporaryDirectory() as tmp:\n",
    "  path = os.path.join(tmp, \"query_model\")\n",
    "  tf.saved_model.save(model.user_model, path)\n",
    "  loaded = tf.saved_model.load(path)\n",
    "  infer = loaded.signatures[\"serving_default\"]\n",
    "\n",
    "  query_embedding = infer(user_id=tf.constant([10], dtype=tf.int32))['output_1']\n",
    "\n",
    "  print(f\"Query embedding: {query_embedding[0, :3]}\")"
   ]
  },
  {
   "cell_type": "markdown",
   "metadata": {
    "colab_type": "text",
    "id": "O-ENamtGmLHY"
   },
   "source": [
    "### Building a candidate ANN index\n",
    "\n",
    "Exporting candidate representations is more involved. Firstly, we want to pre-compute them to make sure serving is fast; this is especially important if the candidate model is computationally intensive (for example, if it has many or wide layers; or uses complex representations for text or images). Secondly, we would like to take the precomputed representations and use them to construct a fast approximate retrieval index.\n",
    "\n",
    "\n",
    "We can use [Annoy](https://github.com/spotify/annoy) to build such an index.\n",
    "\n",
    "To do so, first instantiate the index object."
   ]
  },
  {
   "cell_type": "code",
   "metadata": {
    "colab": {},
    "colab_type": "code",
    "id": "jghIJ0ydqT6R"
   },
   "outputs": [],
   "source": [
    "from annoy import AnnoyIndex\n",
    "\n",
    "index = AnnoyIndex(embedding_dimension, \"dot\")"
   ]
  },
  {
   "cell_type": "markdown",
   "metadata": {
    "colab_type": "text",
    "id": "YdojJq9m5kmZ"
   },
   "source": [
    "Then take the candidate dataset and transform its raw features into embeddings using the movie model:"
   ]
  },
  {
   "cell_type": "code",
   "metadata": {
    "colab": {},
    "colab_type": "code",
    "id": "gZnsvraK5v_a"
   },
   "outputs": [],
   "source": [
    "movie_embeddings = (\n",
    "    movies.batch(128).map(lambda x: (\n",
    "        x[\"movie_id\"], model.movie_model(x))))"
   ]
  },
  {
   "cell_type": "markdown",
   "metadata": {
    "colab_type": "text",
    "id": "AStmvt_I5_hx"
   },
   "source": [
    "And then index the movie_id, movie embedding pairs into our Annoy index:"
   ]
  },
  {
   "cell_type": "code",
   "metadata": {
    "colab": {
     "height": 34
    },
    "colab_type": "code",
    "id": "H9olnuVrmZxa"
   },
   "outputs": [
    {
     "data": {
      "text/plain": [
       "True"
      ]
     },
     "execution_count": 24,
     "metadata": {
      "tags": []
     },
     "output_type": "execute_result"
    }
   ],
   "source": [
    "movie_id_to_title = dict(movies.map(lambda x: (x[\"movie_id\"], x[\"movie_title\"])).as_numpy_iterator())\n",
    "\n",
    "# We unbatch the dataset because Annoy accepts only scalar (id, embedding) pairs.\n",
    "for movie_id, movie_embedding in movie_embeddings.unbatch().as_numpy_iterator():\n",
    "  index.add_item(movie_id, movie_embedding)\n",
    "\n",
    "# Build a 10-tree ANN index.\n",
    "index.build(10)"
   ]
  },
  {
   "cell_type": "markdown",
   "metadata": {
    "colab_type": "text",
    "id": "y04_XP_j7CIn"
   },
   "source": [
    "We can then retrieve nearest neighbours:"
   ]
  },
  {
   "cell_type": "code",
   "metadata": {
    "colab": {
     "height": 187
    },
    "colab_type": "code",
    "id": "4U3vr8aWnPTm"
   },
   "outputs": [
    {
     "name": "stdout",
     "output_type": "stream",
     "text": [
      "Candidates: [b'To Gillian on Her 37th Birthday (1996)', b'Jack (1996)', b'Associate, The (1996)'].\n",
      "Candidates: [b'Oliver & Company (1988)', b'Star Trek V: The Final Frontier (1989)', b'Highlander III: The Sorcerer (1994)'].\n",
      "Candidates: [b'Blue Chips (1994)', b'Free Willy (1993)', b'House Party 3 (1994)'].\n",
      "Candidates: [b\"Daniel Defoe's Robinson Crusoe (1996)\", b'Police Story 4: Project S (Chao ji ji hua) (1993)', b'Audrey Rose (1977)'].\n",
      "Candidates: [b'Foreign Correspondent (1940)', b\"Daniel Defoe's Robinson Crusoe (1996)\", b'Mis\\xe9rables, Les (1995)'].\n",
      "Candidates: [b'Pink Floyd - The Wall (1982)', b'Grand Day Out, A (1992)', b'Wrong Trousers, The (1993)'].\n",
      "Candidates: [b'Ace Ventura: Pet Detective (1994)', b'Grease (1978)', b'Ref, The (1994)'].\n",
      "Candidates: [b\"Robert A. Heinlein's The Puppet Masters (1994)\", b'In the Army Now (1994)', b'GoldenEye (1995)'].\n",
      "Candidates: [b'Conan the Barbarian (1981)', b'Tank Girl (1995)', b'With Honors (1994)'].\n",
      "Candidates: [b'Kissed (1996)', b'Wild Things (1998)', b'Primary Colors (1998)'].\n"
     ]
    }
   ],
   "source": [
    "for row in test.batch(1).take(10):\n",
    "  query_embedding = model.user_model(row)[0]\n",
    "  candidates = index.get_nns_by_vector(query_embedding, 3)\n",
    "  print(f\"Candidates: {[movie_id_to_title[x] for x in candidates]}.\")\n"
   ]
  },
  {
   "cell_type": "markdown",
   "metadata": {
    "colab_type": "text",
    "id": "ws4w5jQ3fX87"
   },
   "source": [
    "## Next steps\n",
    "\n",
    "This concludes the retrieval tutorial.\n",
    "\n",
    "To expand on what is presented here, have a look at:\n",
    "\n",
    "1. Learning multi-task models: jointly optimizing for ratings and clicks.\n",
    "2. Using movie metadata: building a more complex movie model to alleviate cold-start."
   ]
  }
 ],
 "metadata": {
  "colab": {
   "collapsed_sections": [],
   "name": "tfrs_movielens.ipynb",
   "toc_visible": true
  },
  "kernelspec": {
   "display_name": "Python 3",
   "name": "python3"
  }
 },
 "nbformat": 4,
 "nbformat_minor": 0
}
